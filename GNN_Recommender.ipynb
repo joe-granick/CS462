{
  "nbformat": 4,
  "nbformat_minor": 0,
  "metadata": {
    "colab": {
      "provenance": [],
      "gpuType": "A100",
      "authorship_tag": "ABX9TyOVmT8aLCnkVswGGghD1+95",
      "include_colab_link": true
    },
    "kernelspec": {
      "name": "python3",
      "display_name": "Python 3"
    },
    "language_info": {
      "name": "python"
    },
    "accelerator": "GPU"
  },
  "cells": [
    {
      "cell_type": "markdown",
      "metadata": {
        "id": "view-in-github",
        "colab_type": "text"
      },
      "source": [
        "<a href=\"https://colab.research.google.com/github/joe-granick/CS462/blob/main/GNN_Recommender.ipynb\" target=\"_parent\"><img src=\"https://colab.research.google.com/assets/colab-badge.svg\" alt=\"Open In Colab\"/></a>"
      ]
    },
    {
      "cell_type": "code",
      "source": [
        "!pip list | grep torch"
      ],
      "metadata": {
        "colab": {
          "base_uri": "https://localhost:8080/"
        },
        "id": "WsKRez3ScDP_",
        "outputId": "a7bf172c-0edb-48dc-bba7-d570469bf5cd"
      },
      "execution_count": 1,
      "outputs": [
        {
          "output_type": "stream",
          "name": "stdout",
          "text": [
            "torch                              2.5.1+cu121\n",
            "torchaudio                         2.5.1+cu121\n",
            "torchsummary                       1.5.1\n",
            "torchvision                        0.20.1+cu121\n"
          ]
        }
      ]
    },
    {
      "cell_type": "code",
      "source": [
        "!ls ml-1m\n"
      ],
      "metadata": {
        "colab": {
          "base_uri": "https://localhost:8080/"
        },
        "id": "wX3weBimbvmQ",
        "outputId": "22c5b1ec-c996-422c-94af-ffdee70311c8"
      },
      "execution_count": 173,
      "outputs": [
        {
          "output_type": "stream",
          "name": "stdout",
          "text": [
            "ml-1m\n"
          ]
        }
      ]
    },
    {
      "cell_type": "code",
      "source": [
        "!wget https://files.grouplens.org/datasets/movielens/ml-1m.zip\n",
        "!unzip ml-1m.zip -d ml-1m\n"
      ],
      "metadata": {
        "colab": {
          "base_uri": "https://localhost:8080/"
        },
        "id": "QKSLzZWOcEwg",
        "outputId": "9df69765-5795-4c94-c2f6-259b9b64b189"
      },
      "execution_count": 189,
      "outputs": [
        {
          "output_type": "stream",
          "name": "stdout",
          "text": [
            "--2024-11-18 04:11:06--  https://files.grouplens.org/datasets/movielens/ml-1m.zip\n",
            "Resolving files.grouplens.org (files.grouplens.org)... 128.101.65.152\n",
            "Connecting to files.grouplens.org (files.grouplens.org)|128.101.65.152|:443... connected.\n",
            "HTTP request sent, awaiting response... 200 OK\n",
            "Length: 5917549 (5.6M) [application/zip]\n",
            "Saving to: ‘ml-1m.zip’\n",
            "\n",
            "ml-1m.zip           100%[===================>]   5.64M  3.06MB/s    in 1.8s    \n",
            "\n",
            "2024-11-18 04:11:09 (3.06 MB/s) - ‘ml-1m.zip’ saved [5917549/5917549]\n",
            "\n",
            "Archive:  ml-1m.zip\n",
            "   creating: ml-1m/ml-1m/\n",
            "  inflating: ml-1m/ml-1m/movies.dat  \n",
            "  inflating: ml-1m/ml-1m/ratings.dat  \n",
            "  inflating: ml-1m/ml-1m/README      \n",
            "  inflating: ml-1m/ml-1m/users.dat   \n"
          ]
        }
      ]
    },
    {
      "cell_type": "code",
      "source": [
        "!cd ../\n",
        "!ls\n"
      ],
      "metadata": {
        "colab": {
          "base_uri": "https://localhost:8080/"
        },
        "id": "_AwqHmJMeOZc",
        "outputId": "b4560e48-bbf5-43cf-bc00-d38fd5a1642f"
      },
      "execution_count": 197,
      "outputs": [
        {
          "output_type": "stream",
          "name": "stdout",
          "text": [
            "bin\t\t\t    dev     lib32   ml-1m.zip\t\t      python-apt\t srv\tvar\n",
            "boot\t\t\t    etc     lib64   mnt\t\t\t      python-apt.tar.xz  sys\n",
            "content\t\t\t    home    libx32  NGC-DL-CONTAINER-LICENSE  root\t\t tmp\n",
            "cuda-keyring_1.0-1_all.deb  kaggle  media   opt\t\t\t      run\t\t tools\n",
            "datalab\t\t\t    lib     ml-1m   proc\t\t      sbin\t\t usr\n"
          ]
        }
      ]
    },
    {
      "cell_type": "code",
      "source": [
        "cd ml-1m"
      ],
      "metadata": {
        "colab": {
          "base_uri": "https://localhost:8080/"
        },
        "id": "o_0pZ922eeEB",
        "outputId": "5092e162-b700-4e9f-812f-8bba150893d6"
      },
      "execution_count": 199,
      "outputs": [
        {
          "output_type": "stream",
          "name": "stdout",
          "text": [
            "/ml-1m\n"
          ]
        }
      ]
    },
    {
      "cell_type": "code",
      "source": [
        "ls ml-1m"
      ],
      "metadata": {
        "colab": {
          "base_uri": "https://localhost:8080/"
        },
        "id": "eZtY6i-vey1H",
        "outputId": "bd1c969e-f6e2-428a-e02e-a577b0438cda"
      },
      "execution_count": 201,
      "outputs": [
        {
          "output_type": "stream",
          "name": "stdout",
          "text": [
            "movies.dat  ratings.dat  README  users.dat\n"
          ]
        }
      ]
    },
    {
      "cell_type": "code",
      "source": [
        "import pandas as pd\n",
        "\n",
        "# Load the datasets with specified encoding\n",
        "ratings = pd.read_csv('ml-1m/ratings.dat', sep='::', header=None, engine='python',\n",
        "                      names=['UserID', 'MovieID', 'Rating', 'Timestamp'], encoding='latin1')\n",
        "movies = pd.read_csv('ml-1m/movies.dat', sep='::', header=None, engine='python',\n",
        "                     names=['MovieID', 'Title', 'Genres'], encoding='latin1')\n",
        "users = pd.read_csv('ml-1m/users.dat', sep='::', header=None, engine='python',\n",
        "                    names=['UserID', 'Gender', 'Age', 'Occupation', 'Zip-code'], encoding='latin1')\n",
        "\n",
        "# Display the first few rows to confirm successful loading\n",
        "print(\"Ratings Data:\")\n",
        "print(ratings.head())\n",
        "print(\"\\nMovies Data:\")\n",
        "print(movies.head())\n",
        "print(\"\\nUsers Data:\")\n",
        "print(users.head())\n"
      ],
      "metadata": {
        "colab": {
          "base_uri": "https://localhost:8080/"
        },
        "id": "H0EwJ2R9fRrJ",
        "outputId": "803fe0d4-160b-45d0-b094-9d474db84d33"
      },
      "execution_count": 203,
      "outputs": [
        {
          "output_type": "stream",
          "name": "stdout",
          "text": [
            "Ratings Data:\n",
            "   UserID  MovieID  Rating  Timestamp\n",
            "0       1     1193       5  978300760\n",
            "1       1      661       3  978302109\n",
            "2       1      914       3  978301968\n",
            "3       1     3408       4  978300275\n",
            "4       1     2355       5  978824291\n",
            "\n",
            "Movies Data:\n",
            "   MovieID                               Title                        Genres\n",
            "0        1                    Toy Story (1995)   Animation|Children's|Comedy\n",
            "1        2                      Jumanji (1995)  Adventure|Children's|Fantasy\n",
            "2        3             Grumpier Old Men (1995)                Comedy|Romance\n",
            "3        4            Waiting to Exhale (1995)                  Comedy|Drama\n",
            "4        5  Father of the Bride Part II (1995)                        Comedy\n",
            "\n",
            "Users Data:\n",
            "   UserID Gender  Age  Occupation Zip-code\n",
            "0       1      F    1          10    48067\n",
            "1       2      M   56          16    70072\n",
            "2       3      M   25          15    55117\n",
            "3       4      M   45           7    02460\n",
            "4       5      M   25          20    55455\n"
          ]
        }
      ]
    },
    {
      "cell_type": "code",
      "source": [
        "# Ratings\n",
        "print(\"Number of Ratings:\", ratings.shape[0])\n",
        "print(\"Number of Users:\", ratings['UserID'].nunique())\n",
        "print(\"Number of Movies:\", ratings['MovieID'].nunique())\n",
        "\n",
        "# Movies\n",
        "print(\"Number of Movies:\", movies.shape[0])\n",
        "\n",
        "# Users\n",
        "print(\"Number of Users:\", users.shape[0])\n",
        "print(\"Unique Occupations:\", users['Occupation'].nunique())\n"
      ],
      "metadata": {
        "colab": {
          "base_uri": "https://localhost:8080/"
        },
        "id": "eIx16jsRfkGV",
        "outputId": "4178c49a-b948-4c20-eb73-81e610e2cba6"
      },
      "execution_count": 204,
      "outputs": [
        {
          "output_type": "stream",
          "name": "stdout",
          "text": [
            "Number of Ratings: 1000209\n",
            "Number of Users: 6040\n",
            "Number of Movies: 3706\n",
            "Number of Movies: 3883\n",
            "Number of Users: 6040\n",
            "Unique Occupations: 21\n"
          ]
        }
      ]
    },
    {
      "cell_type": "code",
      "source": [
        "import torch\n",
        "from torch_geometric.data import Data\n",
        "\n",
        "# Create edge index: Users -> Movies\n",
        "edge_index = torch.tensor(ratings[['UserID', 'MovieID']].values.T - 1, dtype=torch.long)  # Adjust to 0-based index\n",
        "\n",
        "# Create edge attributes (ratings)\n",
        "edge_attr = torch.tensor(ratings['Rating'].values, dtype=torch.float).view(-1, 1)\n",
        "\n",
        "# Create node features\n",
        "num_users = users['UserID'].max()\n",
        "num_movies = movies['MovieID'].max()\n",
        "num_nodes = num_users + num_movies\n",
        "\n",
        "# One-hot encoding for user/movie nodes\n",
        "node_features = torch.eye(num_nodes, dtype=torch.float)\n",
        "\n",
        "# GNN Data Object\n",
        "data = Data(x=node_features, edge_index=edge_index, edge_attr=edge_attr)\n",
        "print(data)\n"
      ],
      "metadata": {
        "colab": {
          "base_uri": "https://localhost:8080/"
        },
        "id": "ioOfLu-ZfmZE",
        "outputId": "33275159-6e21-42d6-9878-565debd2ec9b"
      },
      "execution_count": 205,
      "outputs": [
        {
          "output_type": "stream",
          "name": "stdout",
          "text": [
            "Data(x=[9992, 9992], edge_index=[2, 1000209], edge_attr=[1000209, 1])\n"
          ]
        }
      ]
    },
    {
      "cell_type": "code",
      "source": [
        "!pip install torch==2.0.1+cu117 torchvision==0.15.2+cu117 torchaudio==2.0.2+cu117 --index-url https://download.pytorch.org/whl/cu117"
      ],
      "metadata": {
        "colab": {
          "base_uri": "https://localhost:8080/"
        },
        "id": "COfJHGH5d9Cg",
        "outputId": "41fc24fa-001a-4365-bbbf-894e8a3a00c8"
      },
      "execution_count": 1,
      "outputs": [
        {
          "output_type": "stream",
          "name": "stdout",
          "text": [
            "Looking in indexes: https://download.pytorch.org/whl/cu117\n",
            "Requirement already satisfied: torch==2.0.1+cu117 in /usr/local/lib/python3.10/dist-packages (2.0.1+cu117)\n",
            "Requirement already satisfied: torchvision==0.15.2+cu117 in /usr/local/lib/python3.10/dist-packages (0.15.2+cu117)\n",
            "Requirement already satisfied: torchaudio==2.0.2+cu117 in /usr/local/lib/python3.10/dist-packages (2.0.2+cu117)\n",
            "Requirement already satisfied: filelock in /usr/local/lib/python3.10/dist-packages (from torch==2.0.1+cu117) (3.16.1)\n",
            "Requirement already satisfied: typing-extensions in /usr/local/lib/python3.10/dist-packages (from torch==2.0.1+cu117) (4.12.2)\n",
            "Requirement already satisfied: sympy in /usr/local/lib/python3.10/dist-packages (from torch==2.0.1+cu117) (1.13.1)\n",
            "Requirement already satisfied: networkx in /usr/local/lib/python3.10/dist-packages (from torch==2.0.1+cu117) (3.4.2)\n",
            "Requirement already satisfied: jinja2 in /usr/local/lib/python3.10/dist-packages (from torch==2.0.1+cu117) (3.1.4)\n",
            "Requirement already satisfied: triton==2.0.0 in /usr/local/lib/python3.10/dist-packages (from torch==2.0.1+cu117) (2.0.0)\n",
            "Requirement already satisfied: numpy in /usr/local/lib/python3.10/dist-packages (from torchvision==0.15.2+cu117) (1.26.4)\n",
            "Requirement already satisfied: requests in /usr/local/lib/python3.10/dist-packages (from torchvision==0.15.2+cu117) (2.32.3)\n",
            "Requirement already satisfied: pillow!=8.3.*,>=5.3.0 in /usr/local/lib/python3.10/dist-packages (from torchvision==0.15.2+cu117) (11.0.0)\n",
            "Requirement already satisfied: cmake in /usr/local/lib/python3.10/dist-packages (from triton==2.0.0->torch==2.0.1+cu117) (3.30.5)\n",
            "Requirement already satisfied: lit in /usr/local/lib/python3.10/dist-packages (from triton==2.0.0->torch==2.0.1+cu117) (15.0.7)\n",
            "Requirement already satisfied: MarkupSafe>=2.0 in /usr/local/lib/python3.10/dist-packages (from jinja2->torch==2.0.1+cu117) (3.0.2)\n",
            "Requirement already satisfied: charset-normalizer<4,>=2 in /usr/local/lib/python3.10/dist-packages (from requests->torchvision==0.15.2+cu117) (3.4.0)\n",
            "Requirement already satisfied: idna<4,>=2.5 in /usr/local/lib/python3.10/dist-packages (from requests->torchvision==0.15.2+cu117) (3.10)\n",
            "Requirement already satisfied: urllib3<3,>=1.21.1 in /usr/local/lib/python3.10/dist-packages (from requests->torchvision==0.15.2+cu117) (2.2.3)\n",
            "Requirement already satisfied: certifi>=2017.4.17 in /usr/local/lib/python3.10/dist-packages (from requests->torchvision==0.15.2+cu117) (2024.8.30)\n",
            "Requirement already satisfied: mpmath<1.4,>=1.1.0 in /usr/local/lib/python3.10/dist-packages (from sympy->torch==2.0.1+cu117) (1.3.0)\n"
          ]
        }
      ]
    },
    {
      "cell_type": "code",
      "source": [
        "!pip install torch-scatter==2.1.2+pt20cu117 \\\n",
        "    torch-sparse==0.6.18+pt20cu117 \\\n",
        "    torch-cluster==1.6.3+pt20cu117 \\\n",
        "    torch-spline-conv==1.2.2+pt20cu117 \\\n",
        "    -f https://data.pyg.org/whl/torch-2.0.0+cu117.html"
      ],
      "metadata": {
        "colab": {
          "base_uri": "https://localhost:8080/"
        },
        "id": "BQoN0qXne1-g",
        "outputId": "a08b09b3-382e-4e34-eaf9-5ffa740d4301"
      },
      "execution_count": 3,
      "outputs": [
        {
          "output_type": "stream",
          "name": "stdout",
          "text": [
            "Looking in links: https://data.pyg.org/whl/torch-2.0.0+cu117.html\n",
            "Collecting torch-scatter==2.1.2+pt20cu117\n",
            "  Downloading https://data.pyg.org/whl/torch-2.0.0%2Bcu117/torch_scatter-2.1.2%2Bpt20cu117-cp310-cp310-linux_x86_64.whl (10.1 MB)\n",
            "\u001b[2K     \u001b[90m━━━━━━━━━━━━━━━━━━━━━━━━━━━━━━━━━━━━━━━━\u001b[0m \u001b[32m10.1/10.1 MB\u001b[0m \u001b[31m50.2 MB/s\u001b[0m eta \u001b[36m0:00:00\u001b[0m\n",
            "\u001b[?25hCollecting torch-sparse==0.6.18+pt20cu117\n",
            "  Downloading https://data.pyg.org/whl/torch-2.0.0%2Bcu117/torch_sparse-0.6.18%2Bpt20cu117-cp310-cp310-linux_x86_64.whl (4.9 MB)\n",
            "\u001b[2K     \u001b[90m━━━━━━━━━━━━━━━━━━━━━━━━━━━━━━━━━━━━━━━━\u001b[0m \u001b[32m4.9/4.9 MB\u001b[0m \u001b[31m106.1 MB/s\u001b[0m eta \u001b[36m0:00:00\u001b[0m\n",
            "\u001b[?25hCollecting torch-cluster==1.6.3+pt20cu117\n",
            "  Downloading https://data.pyg.org/whl/torch-2.0.0%2Bcu117/torch_cluster-1.6.3%2Bpt20cu117-cp310-cp310-linux_x86_64.whl (3.3 MB)\n",
            "\u001b[2K     \u001b[90m━━━━━━━━━━━━━━━━━━━━━━━━━━━━━━━━━━━━━━━━\u001b[0m \u001b[32m3.3/3.3 MB\u001b[0m \u001b[31m100.5 MB/s\u001b[0m eta \u001b[36m0:00:00\u001b[0m\n",
            "\u001b[?25hCollecting torch-spline-conv==1.2.2+pt20cu117\n",
            "  Downloading https://data.pyg.org/whl/torch-2.0.0%2Bcu117/torch_spline_conv-1.2.2%2Bpt20cu117-cp310-cp310-linux_x86_64.whl (887 kB)\n",
            "\u001b[2K     \u001b[90m━━━━━━━━━━━━━━━━━━━━━━━━━━━━━━━━━━━━━━━━\u001b[0m \u001b[32m887.2/887.2 kB\u001b[0m \u001b[31m55.9 MB/s\u001b[0m eta \u001b[36m0:00:00\u001b[0m\n",
            "\u001b[?25hRequirement already satisfied: scipy in /usr/local/lib/python3.10/dist-packages (from torch-sparse==0.6.18+pt20cu117) (1.13.1)\n",
            "Requirement already satisfied: numpy<2.3,>=1.22.4 in /usr/local/lib/python3.10/dist-packages (from scipy->torch-sparse==0.6.18+pt20cu117) (1.26.4)\n",
            "Installing collected packages: torch-spline-conv, torch-scatter, torch-sparse, torch-cluster\n",
            "Successfully installed torch-cluster-1.6.3+pt20cu117 torch-scatter-2.1.2+pt20cu117 torch-sparse-0.6.18+pt20cu117 torch-spline-conv-1.2.2+pt20cu117\n"
          ]
        }
      ]
    },
    {
      "cell_type": "code",
      "source": [
        "!pip install torch-geometric"
      ],
      "metadata": {
        "colab": {
          "base_uri": "https://localhost:8080/"
        },
        "id": "uCahHpEme5Cy",
        "outputId": "99431402-972e-46c8-b473-8d16b75ed92a"
      },
      "execution_count": 2,
      "outputs": [
        {
          "output_type": "stream",
          "name": "stdout",
          "text": [
            "Collecting torch-geometric\n",
            "  Downloading torch_geometric-2.6.1-py3-none-any.whl.metadata (63 kB)\n",
            "\u001b[?25l     \u001b[90m━━━━━━━━━━━━━━━━━━━━━━━━━━━━━━━━━━━━━━━━\u001b[0m \u001b[32m0.0/63.1 kB\u001b[0m \u001b[31m?\u001b[0m eta \u001b[36m-:--:--\u001b[0m\r\u001b[2K     \u001b[91m━━━━━━━━━━━━━━━━━━━━━━━━━━━━━━━━━━━━━━\u001b[0m\u001b[91m╸\u001b[0m\u001b[90m━\u001b[0m \u001b[32m61.4/63.1 kB\u001b[0m \u001b[31m1.6 MB/s\u001b[0m eta \u001b[36m0:00:01\u001b[0m\r\u001b[2K     \u001b[90m━━━━━━━━━━━━━━━━━━━━━━━━━━━━━━━━━━━━━━━━\u001b[0m \u001b[32m63.1/63.1 kB\u001b[0m \u001b[31m1.3 MB/s\u001b[0m eta \u001b[36m0:00:00\u001b[0m\n",
            "\u001b[?25hRequirement already satisfied: aiohttp in /usr/local/lib/python3.10/dist-packages (from torch-geometric) (3.10.10)\n",
            "Requirement already satisfied: fsspec in /usr/local/lib/python3.10/dist-packages (from torch-geometric) (2024.10.0)\n",
            "Requirement already satisfied: jinja2 in /usr/local/lib/python3.10/dist-packages (from torch-geometric) (3.1.4)\n",
            "Requirement already satisfied: numpy in /usr/local/lib/python3.10/dist-packages (from torch-geometric) (1.26.4)\n",
            "Requirement already satisfied: psutil>=5.8.0 in /usr/local/lib/python3.10/dist-packages (from torch-geometric) (5.9.5)\n",
            "Requirement already satisfied: pyparsing in /usr/local/lib/python3.10/dist-packages (from torch-geometric) (3.2.0)\n",
            "Requirement already satisfied: requests in /usr/local/lib/python3.10/dist-packages (from torch-geometric) (2.32.3)\n",
            "Requirement already satisfied: tqdm in /usr/local/lib/python3.10/dist-packages (from torch-geometric) (4.66.6)\n",
            "Requirement already satisfied: aiohappyeyeballs>=2.3.0 in /usr/local/lib/python3.10/dist-packages (from aiohttp->torch-geometric) (2.4.3)\n",
            "Requirement already satisfied: aiosignal>=1.1.2 in /usr/local/lib/python3.10/dist-packages (from aiohttp->torch-geometric) (1.3.1)\n",
            "Requirement already satisfied: attrs>=17.3.0 in /usr/local/lib/python3.10/dist-packages (from aiohttp->torch-geometric) (24.2.0)\n",
            "Requirement already satisfied: frozenlist>=1.1.1 in /usr/local/lib/python3.10/dist-packages (from aiohttp->torch-geometric) (1.5.0)\n",
            "Requirement already satisfied: multidict<7.0,>=4.5 in /usr/local/lib/python3.10/dist-packages (from aiohttp->torch-geometric) (6.1.0)\n",
            "Requirement already satisfied: yarl<2.0,>=1.12.0 in /usr/local/lib/python3.10/dist-packages (from aiohttp->torch-geometric) (1.17.1)\n",
            "Requirement already satisfied: async-timeout<5.0,>=4.0 in /usr/local/lib/python3.10/dist-packages (from aiohttp->torch-geometric) (4.0.3)\n",
            "Requirement already satisfied: MarkupSafe>=2.0 in /usr/local/lib/python3.10/dist-packages (from jinja2->torch-geometric) (3.0.2)\n",
            "Requirement already satisfied: charset-normalizer<4,>=2 in /usr/local/lib/python3.10/dist-packages (from requests->torch-geometric) (3.4.0)\n",
            "Requirement already satisfied: idna<4,>=2.5 in /usr/local/lib/python3.10/dist-packages (from requests->torch-geometric) (3.10)\n",
            "Requirement already satisfied: urllib3<3,>=1.21.1 in /usr/local/lib/python3.10/dist-packages (from requests->torch-geometric) (2.2.3)\n",
            "Requirement already satisfied: certifi>=2017.4.17 in /usr/local/lib/python3.10/dist-packages (from requests->torch-geometric) (2024.8.30)\n",
            "Requirement already satisfied: typing-extensions>=4.1.0 in /usr/local/lib/python3.10/dist-packages (from multidict<7.0,>=4.5->aiohttp->torch-geometric) (4.12.2)\n",
            "Requirement already satisfied: propcache>=0.2.0 in /usr/local/lib/python3.10/dist-packages (from yarl<2.0,>=1.12.0->aiohttp->torch-geometric) (0.2.0)\n",
            "Downloading torch_geometric-2.6.1-py3-none-any.whl (1.1 MB)\n",
            "\u001b[2K   \u001b[90m━━━━━━━━━━━━━━━━━━━━━━━━━━━━━━━━━━━━━━━━\u001b[0m \u001b[32m1.1/1.1 MB\u001b[0m \u001b[31m13.6 MB/s\u001b[0m eta \u001b[36m0:00:00\u001b[0m\n",
            "\u001b[?25hInstalling collected packages: torch-geometric\n",
            "Successfully installed torch-geometric-2.6.1\n"
          ]
        }
      ]
    },
    {
      "cell_type": "code",
      "source": [
        "!wget https://files.grouplens.org/datasets/movielens/ml-1m.zip\n",
        "!unzip ml-1m.zip -d ml-1m\n"
      ],
      "metadata": {
        "colab": {
          "base_uri": "https://localhost:8080/"
        },
        "id": "LVjLI5QSbehX",
        "outputId": "2b782ab8-8dc7-46fe-9e2f-7acffd392f6d"
      },
      "execution_count": 6,
      "outputs": [
        {
          "output_type": "stream",
          "name": "stdout",
          "text": [
            "--2024-11-18 16:04:06--  https://files.grouplens.org/datasets/movielens/ml-1m.zip\n",
            "Resolving files.grouplens.org (files.grouplens.org)... 128.101.65.152\n",
            "Connecting to files.grouplens.org (files.grouplens.org)|128.101.65.152|:443... connected.\n",
            "HTTP request sent, awaiting response... 200 OK\n",
            "Length: 5917549 (5.6M) [application/zip]\n",
            "Saving to: ‘ml-1m.zip’\n",
            "\n",
            "ml-1m.zip           100%[===================>]   5.64M  25.7MB/s    in 0.2s    \n",
            "\n",
            "2024-11-18 16:04:06 (25.7 MB/s) - ‘ml-1m.zip’ saved [5917549/5917549]\n",
            "\n",
            "Archive:  ml-1m.zip\n",
            "   creating: ml-1m/ml-1m/\n",
            "  inflating: ml-1m/ml-1m/movies.dat  \n",
            "  inflating: ml-1m/ml-1m/ratings.dat  \n",
            "  inflating: ml-1m/ml-1m/README      \n",
            "  inflating: ml-1m/ml-1m/users.dat   \n"
          ]
        }
      ]
    },
    {
      "cell_type": "code",
      "source": [
        "!ls ml-1m/ml-1m"
      ],
      "metadata": {
        "colab": {
          "base_uri": "https://localhost:8080/"
        },
        "id": "RLM5UjCkBX1u",
        "outputId": "9035c88e-8e4d-4ad4-8e56-a0891271ad44"
      },
      "execution_count": 9,
      "outputs": [
        {
          "output_type": "stream",
          "name": "stdout",
          "text": [
            "movies.dat  ratings.dat  README  users.dat\n"
          ]
        }
      ]
    },
    {
      "cell_type": "code",
      "source": [
        "import torch\n",
        "from torch_geometric.data import Data\n",
        "from sklearn.model_selection import train_test_split\n",
        "import pandas as pd\n",
        "import numpy as np\n",
        "\n",
        "# Load and preprocess your dataset\n",
        "ratings = pd.read_csv('ml-1m/ml-1m/ratings.dat', sep='::', header=None, engine='python',\n",
        "                      names=['UserID', 'MovieID', 'Rating', 'Timestamp'], encoding='latin1')\n",
        "movies = pd.read_csv('ml-1m/ml-1m/movies.dat', sep='::', header=None, engine='python',\n",
        "                     names=['MovieID', 'Title', 'Genres'], encoding='latin1')\n",
        "users = pd.read_csv('ml-1m/ml-1m/users.dat', sep='::', header=None, engine='python',\n",
        "                    names=['UserID', 'Gender', 'Age', 'Occupation', 'Zip-code'], encoding='latin1')\n",
        "\n",
        "# Reindex UserID and MovieID\n",
        "user_id_map = {id: idx for idx, id in enumerate(users['UserID'].unique())}\n",
        "movie_id_map = {id: idx for idx, id in enumerate(movies['MovieID'].unique())}\n",
        "\n",
        "ratings['UserID'] = ratings['UserID'].map(user_id_map)\n",
        "ratings['MovieID'] = ratings['MovieID'].map(movie_id_map) + len(user_id_map)  # Offset movies\n",
        "\n",
        "num_users = len(user_id_map)\n",
        "num_movies = len(movie_id_map)\n",
        "total_nodes = num_users + num_movies\n",
        "\n",
        "# Create features and edge attributes\n",
        "node_features = torch.randn(total_nodes, 7)  # Example: 7-dimensional node features\n",
        "edge_index = torch.tensor(ratings[['UserID', 'MovieID']].values.T, dtype=torch.long)\n",
        "\n",
        "edge_attr = torch.tensor(ratings['Rating'].values, dtype=torch.float32).unsqueeze(1)\n",
        "target = (ratings['Rating'] >= 4).astype(int).values  # Binary target for rating >= 4\n",
        "\n",
        "# Split dataset into train and validation\n",
        "train_idx, val_idx = train_test_split(np.arange(edge_index.shape[1]), test_size=0.2, random_state=42)\n",
        "train_data = Data(x=node_features, edge_index=edge_index[:, train_idx], edge_attr=edge_attr[train_idx],\n",
        "                  y=torch.tensor(target[train_idx], dtype=torch.float32))\n",
        "val_data = Data(x=node_features, edge_index=edge_index[:, val_idx], edge_attr=edge_attr[val_idx],\n",
        "                y=torch.tensor(target[val_idx], dtype=torch.float32))\n",
        "\n",
        "# Validate Data\n",
        "print(\"Node Feature Matrix Shape:\", node_features.shape)\n",
        "print(\"Edge Index Shape:\", edge_index.shape)\n",
        "print(\"Max Edge Index:\", edge_index.max().item())\n"
      ],
      "metadata": {
        "colab": {
          "base_uri": "https://localhost:8080/"
        },
        "id": "XcGxWoAY_fmD",
        "outputId": "f11bb3b9-d63e-4d70-de5a-f62d23b8eaa8"
      },
      "execution_count": 15,
      "outputs": [
        {
          "output_type": "stream",
          "name": "stdout",
          "text": [
            "Node Feature Matrix Shape: torch.Size([9923, 7])\n",
            "Edge Index Shape: torch.Size([2, 1000209])\n",
            "Max Edge Index: 9922\n"
          ]
        }
      ]
    },
    {
      "cell_type": "code",
      "source": [
        "print(\"Edge Attribute Shape:\", edge_attr.shape)\n"
      ],
      "metadata": {
        "colab": {
          "base_uri": "https://localhost:8080/"
        },
        "id": "knCQGOmjGX32",
        "outputId": "a55d14d9-0058-4dce-f27f-61a6702c137b"
      },
      "execution_count": 16,
      "outputs": [
        {
          "output_type": "stream",
          "name": "stdout",
          "text": [
            "Edge Attribute Shape: torch.Size([1000209, 1])\n"
          ]
        }
      ]
    },
    {
      "cell_type": "code",
      "source": [
        "import torch.nn as nn\n",
        "import torch.nn.functional as F\n",
        "from torch_geometric.nn import GCNConv\n",
        "\n",
        "class GNNEdgeClassifier(nn.Module):\n",
        "    def __init__(self, hidden_dim=16, edge_feature_dim=5):\n",
        "        super(GNNEdgeClassifier, self).__init__()\n",
        "        self.gcn1 = GCNConv(-1, hidden_dim)  # Input dimension inferred dynamically\n",
        "        self.gcn2 = GCNConv(hidden_dim, hidden_dim)\n",
        "        self.edge_predictor = nn.Sequential(\n",
        "            nn.LazyLinear(hidden_dim),  # Infer input size lazily\n",
        "            nn.ReLU(),\n",
        "            nn.LazyLinear(1)  # Infer input size lazily for final output\n",
        "        )\n",
        "\n",
        "    def forward(self, x, edge_index, edge_attr):\n",
        "        # GCN Layers\n",
        "        x = F.relu(self.gcn1(x, edge_index))\n",
        "        x = F.relu(self.gcn2(x, edge_index))\n",
        "\n",
        "        # Aggregate edge features\n",
        "        edge_src = x[edge_index[0]]  # Source node features\n",
        "        edge_tgt = x[edge_index[1]]  # Target node features\n",
        "        edge_features = torch.cat([edge_src, edge_tgt, edge_attr], dim=1)\n",
        "\n",
        "        # Edge prediction\n",
        "        return self.edge_predictor(edge_features).squeeze(-1)\n"
      ],
      "metadata": {
        "id": "UuKc9nca_i6-"
      },
      "execution_count": 12,
      "outputs": []
    },
    {
      "cell_type": "code",
      "source": [
        "# GAT-based Model\n",
        "class GATEdgeClassifier(nn.Module):\n",
        "    def __init__(self, hidden_dim=16):\n",
        "        super(GATEdgeClassifier, self).__init__()\n",
        "        self.gat1 = GATConv(-1, hidden_dim, heads=4, concat=True)\n",
        "        self.gat2 = GATConv(hidden_dim * 4, hidden_dim, heads=1, concat=False)\n",
        "        self.edge_predictor = nn.Sequential(\n",
        "            nn.Linear(hidden_dim * 2 + 1, hidden_dim),  # Includes edge_attr\n",
        "            nn.ReLU(),\n",
        "            nn.Linear(hidden_dim, 1)\n",
        "        )\n",
        "\n",
        "    def forward(self, x, edge_index, edge_attr):\n",
        "        x = F.relu(self.gat1(x, edge_index))\n",
        "        x = F.relu(self.gat2(x, edge_index))\n",
        "        edge_src = x[edge_index[0]]\n",
        "        edge_tgt = x[edge_index[1]]\n",
        "        edge_features = torch.cat([edge_src, edge_tgt, edge_attr], dim=1)\n",
        "        return self.edge_predictor(edge_features).squeeze(-1)\n"
      ],
      "metadata": {
        "id": "7bf51RaDHhuu"
      },
      "execution_count": 17,
      "outputs": []
    },
    {
      "cell_type": "code",
      "source": [
        "import torch.optim as optim\n",
        "import torch.nn.init as init\n",
        "\n",
        "# Initialize the model\n",
        "model = GATEdgeClassifier(hidden_dim=16)\n",
        "\n",
        "# Define optimizer\n",
        "optimizer = optim.Adam(model.parameters(), lr=0.01, weight_decay=5e-4)\n",
        "\n",
        "# (Optional) Define a custom weight initialization function\n",
        "def initialize_weights(m):\n",
        "    if isinstance(m, nn.Linear):  # Applies to the edge predictor\n",
        "        init.xavier_uniform_(m.weight)\n",
        "        if m.bias is not None:\n",
        "            init.zeros_(m.bias)\n",
        "\n",
        "# Apply custom initialization\n",
        "model.apply(initialize_weights)\n",
        "\n",
        "# Print the model to ensure it looks correct\n",
        "print(model)\n",
        "\n"
      ],
      "metadata": {
        "colab": {
          "base_uri": "https://localhost:8080/"
        },
        "id": "A0WGzkoHIQpJ",
        "outputId": "c687e0ef-a3ec-40d4-c032-06d48ac43b92"
      },
      "execution_count": 19,
      "outputs": [
        {
          "output_type": "stream",
          "name": "stdout",
          "text": [
            "GATEdgeClassifier(\n",
            "  (gat1): GATConv(-1, 16, heads=4)\n",
            "  (gat2): GATConv(64, 16, heads=1)\n",
            "  (edge_predictor): Sequential(\n",
            "    (0): Linear(in_features=33, out_features=16, bias=True)\n",
            "    (1): ReLU()\n",
            "    (2): Linear(in_features=16, out_features=1, bias=True)\n",
            "  )\n",
            ")\n"
          ]
        }
      ]
    },
    {
      "cell_type": "code",
      "source": [
        "# Example training loop\n",
        "for epoch in range(50):\n",
        "    model.train()\n",
        "    optimizer.zero_grad()\n",
        "\n",
        "    # Forward pass\n",
        "    train_output = model(train_data.x, train_data.edge_index, edge_attr=train_data.edge_attr).squeeze(-1)\n",
        "\n",
        "    # Compute loss\n",
        "    train_loss = criterion(train_output, train_data.y.float())\n",
        "\n",
        "    # Backpropagation\n",
        "    train_loss.backward()\n",
        "    optimizer.step()\n",
        "\n",
        "    # Evaluation\n",
        "    model.eval()\n",
        "    with torch.no_grad():\n",
        "        val_output = model(val_data.x, val_data.edge_index, edge_attr=val_data.edge_attr).squeeze(-1)\n",
        "        val_predictions = (torch.sigmoid(val_output) > 0.5).long()\n",
        "        val_accuracy = (val_predictions == val_data.y.long()).sum().item() / val_data.y.size(0)\n",
        "\n",
        "    print(f\"Epoch {epoch+1}, Train Loss: {train_loss.item():.4f}, Val Accuracy: {val_accuracy:.4f}\")\n"
      ],
      "metadata": {
        "colab": {
          "base_uri": "https://localhost:8080/"
        },
        "id": "0dElzEWXJLg_",
        "outputId": "806f5c73-3915-4721-a3c5-d17a46f1c8a6"
      },
      "execution_count": 20,
      "outputs": [
        {
          "output_type": "stream",
          "name": "stdout",
          "text": [
            "Epoch 1, Train Loss: 0.6402, Val Accuracy: 0.5762\n",
            "Epoch 2, Train Loss: 0.6078, Val Accuracy: 0.5915\n",
            "Epoch 3, Train Loss: 0.5991, Val Accuracy: 0.6314\n",
            "Epoch 4, Train Loss: 0.5893, Val Accuracy: 0.6832\n",
            "Epoch 5, Train Loss: 0.5785, Val Accuracy: 0.7406\n",
            "Epoch 6, Train Loss: 0.5656, Val Accuracy: 0.7821\n",
            "Epoch 7, Train Loss: 0.5534, Val Accuracy: 0.8023\n",
            "Epoch 8, Train Loss: 0.5406, Val Accuracy: 0.7937\n",
            "Epoch 9, Train Loss: 0.5261, Val Accuracy: 0.7763\n",
            "Epoch 10, Train Loss: 0.5128, Val Accuracy: 0.7813\n",
            "Epoch 11, Train Loss: 0.4985, Val Accuracy: 0.8157\n",
            "Epoch 12, Train Loss: 0.4818, Val Accuracy: 0.8532\n",
            "Epoch 13, Train Loss: 0.4673, Val Accuracy: 0.8388\n",
            "Epoch 14, Train Loss: 0.4509, Val Accuracy: 0.8115\n",
            "Epoch 15, Train Loss: 0.4364, Val Accuracy: 0.8146\n",
            "Epoch 16, Train Loss: 0.4227, Val Accuracy: 0.8411\n",
            "Epoch 17, Train Loss: 0.4096, Val Accuracy: 0.8569\n",
            "Epoch 18, Train Loss: 0.3967, Val Accuracy: 0.8469\n",
            "Epoch 19, Train Loss: 0.3822, Val Accuracy: 0.8489\n",
            "Epoch 20, Train Loss: 0.3683, Val Accuracy: 0.8835\n",
            "Epoch 21, Train Loss: 0.3533, Val Accuracy: 0.9131\n",
            "Epoch 22, Train Loss: 0.3397, Val Accuracy: 0.9076\n",
            "Epoch 23, Train Loss: 0.3253, Val Accuracy: 0.9109\n",
            "Epoch 24, Train Loss: 0.3121, Val Accuracy: 0.9422\n",
            "Epoch 25, Train Loss: 0.2986, Val Accuracy: 0.9528\n",
            "Epoch 26, Train Loss: 0.2858, Val Accuracy: 0.9443\n",
            "Epoch 27, Train Loss: 0.2735, Val Accuracy: 0.9615\n",
            "Epoch 28, Train Loss: 0.2609, Val Accuracy: 0.9730\n",
            "Epoch 29, Train Loss: 0.2495, Val Accuracy: 0.9638\n",
            "Epoch 30, Train Loss: 0.2382, Val Accuracy: 0.9772\n",
            "Epoch 31, Train Loss: 0.2267, Val Accuracy: 0.9803\n",
            "Epoch 32, Train Loss: 0.2160, Val Accuracy: 0.9758\n",
            "Epoch 33, Train Loss: 0.2063, Val Accuracy: 0.9866\n",
            "Epoch 34, Train Loss: 0.1971, Val Accuracy: 0.9767\n",
            "Epoch 35, Train Loss: 0.1889, Val Accuracy: 0.9890\n",
            "Epoch 36, Train Loss: 0.1786, Val Accuracy: 0.9884\n",
            "Epoch 37, Train Loss: 0.1691, Val Accuracy: 0.9887\n",
            "Epoch 38, Train Loss: 0.1614, Val Accuracy: 0.9925\n",
            "Epoch 39, Train Loss: 0.1552, Val Accuracy: 0.9877\n",
            "Epoch 40, Train Loss: 0.1496, Val Accuracy: 0.9937\n",
            "Epoch 41, Train Loss: 0.1411, Val Accuracy: 0.9928\n",
            "Epoch 42, Train Loss: 0.1331, Val Accuracy: 0.9925\n",
            "Epoch 43, Train Loss: 0.1276, Val Accuracy: 0.9949\n",
            "Epoch 44, Train Loss: 0.1234, Val Accuracy: 0.9919\n",
            "Epoch 45, Train Loss: 0.1191, Val Accuracy: 0.9957\n",
            "Epoch 46, Train Loss: 0.1115, Val Accuracy: 0.9959\n",
            "Epoch 47, Train Loss: 0.1058, Val Accuracy: 0.9951\n",
            "Epoch 48, Train Loss: 0.1027, Val Accuracy: 0.9970\n",
            "Epoch 49, Train Loss: 0.0982, Val Accuracy: 0.9968\n",
            "Epoch 50, Train Loss: 0.0926, Val Accuracy: 0.9974\n"
          ]
        }
      ]
    }
  ]
}